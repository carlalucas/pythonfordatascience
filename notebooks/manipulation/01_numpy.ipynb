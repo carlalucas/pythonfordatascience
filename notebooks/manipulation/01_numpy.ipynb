{
  "cells": [
    {
      "cell_type": "markdown",
      "id": "e70c86de-6d14-4dcc-aac9-da1c385a27f5",
      "metadata": {},
      "source": [
        "# Numpy, la brique de base de la data science\n",
        "\n",
        "Lino Galiana  \n",
        "2024-09-23\n",
        "\n",
        "<div class=\"alert alert-info\" role=\"alert\">\n",
        "<h3 class=\"alert-heading\">Version 🇫🇷</h3>\n",
        "This is the French version 🇫🇷 of that chapter,to see the English version go <a href=\"https://pythonds.linogaliana.fr/content/manipulation/01_numpy.html\">there</a>\n",
        "</div>\n",
        "\n",
        "# 1. Introduction\n",
        "\n",
        "Ce chapitre constitue une introduction à *Numpy* pour\n",
        "s’assurer que les bases du calcul vectoriel avec `Python`\n",
        "soient maîtrisées. La première partie du chapitre\n",
        "présente des petits exercices pour pratiquer\n",
        "quelques fonctions basiques de `Numpy`. La fin du chapitre présente\n",
        "des exercices pratiques d’utilisation de `Numpy` plus approfondis.\n",
        "\n",
        "Il est recommandé de régulièrement se référer à\n",
        "la [*cheatsheet numpy*](https://www.datacamp.com/community/blog/python-numpy-cheat-sheet) et à la\n",
        "[doc officielle](https://numpy.org/doc/stable/) en cas de doute\n",
        "sur une fonction.\n",
        "\n",
        "Dans ce chapitre, on ne dérogera pas à la convention qui s’est imposée\n",
        "d’importer `Numpy` de la\n",
        "manière suivante :"
      ]
    },
    {
      "cell_type": "code",
      "execution_count": 2,
      "id": "import-np",
      "metadata": {},
      "outputs": [],
      "source": [
        "import numpy as np\n"
      ]
    },
    {
      "cell_type": "markdown",
      "id": "3b3e743e-a9cc-4041-bada-820ba3352b03",
      "metadata": {},
      "source": [
        "Nous allons également fixer la racine du générateur aléatoire de nombres\n",
        "afin d’avoir des résultats reproductibles :"
      ]
    },
    {
      "cell_type": "code",
      "execution_count": 2,
      "id": "e92e2caa",
      "metadata": {},
      "outputs": [],
      "source": [
        "np.random.seed(12345)\n"
      ]
    },
    {
      "cell_type": "markdown",
      "id": "ac2a37e4-3acf-49f6-9fa4-1fe8584b4b9d",
      "metadata": {},
      "source": [
        "<div class=\"alert alert-info\" role=\"alert\">\n",
        "<h3 class=\"alert-heading\"><i class=\"fa-solid fa-comment\"></i> Note</h3>\n",
        "\n",
        "Les auteurs\n",
        "de `numpy` [préconisent désormais](https://numpy.org/doc/stable/reference/random/index.html)\n",
        "de privilégier l’utilisation de\n",
        "générateurs via la fonction `default_rng()` plutôt que la simple utilisation de `numpy.random`.\n",
        "\n",
        "Afin d’être en phase avec les codes qu’on peut trouver partout sur internet, nous\n",
        "conservons encore `np.random.seed` mais cela peut être amené à évoluer.\n",
        "\n",
        "</div>\n",
        "\n",
        "<div class=\"alert alert-info\" role=\"alert\">\n",
        "<h3 class=\"alert-heading\"><i class=\"fa-solid fa-comment\"></i> Note</h3>\n",
        "\n",
        "The authors of `numpy` [now recommend](https://numpy.org/doc/stable/reference/random/index.html) using generators via the `default_rng()` function rather than simply using `numpy.random`.\n",
        "\n",
        "To stay consistent with the codes found everywhere on the internet, we still use `np.random.seed`, but this may change in the future.\n",
        "\n",
        "</div>\n",
        "\n",
        "# 2. Le concept d’*array*\n",
        "\n",
        "Dans le monde de la science des données, comme cela sera évoqué\n",
        "plus en profondeur dans les prochains chapitres,\n",
        "l’objet central est le tableau à deux dimensions de données.\n",
        "La première correspond aux lignes et la seconde aux colonnes.\n",
        "Si on ne se préoccupe que d’une dimension, on se rapporte\n",
        "à une variable (une colonne) de notre tableau de données.\n",
        "Il est donc naturel de faire le lien entre les\n",
        "tableaux de données et l’objet mathématique\n",
        "que sont les matrices et les vecteurs.\n",
        "\n",
        "`NumPy` (`Numerical Python`) est la brique de base\n",
        "pour traiter des listes numériques ou des chaines\n",
        "de textes comme des matrices.\n",
        "`NumPy` intervient pour proposer\n",
        "ce type d’objets, et\n",
        "les opérations standardisées associées qui n’existent\n",
        "pas dans le langage `Python` de base.\n",
        "\n",
        "L’objet central de `NumPy` est\n",
        "l’**`array`** qui est un tableau de données multidimensionnel.\n",
        "L’array `Numpy` peut être unidimensionnel et s’apparenter à un\n",
        "vecteur (`1d-array`),\n",
        "bidimensionnel et ainsi s’apparenter à une matrice (`2d-array`) ou,\n",
        "de manière plus générale,\n",
        "prendre la forme d’un objet\n",
        "multidimensionnel (`Nd-array`), sorte de tableau emboîté.\n",
        "\n",
        "Les tableaux simples (uni ou bi-dimensionnels) sont faciles à se représenter\n",
        "et représentent la majorité des besoins liés à `Numpy`.\n",
        "Nous découvrirons lors du chapitre suivant, sur `Pandas`, qu’en pratique\n",
        "on manipule rarement directement `Numpy` qui est une librairie\n",
        "bas niveau.\n",
        "Un *DataFrame* `Pandas` sera construit à partir d’une collection\n",
        "d’array uni-dimensionnels (les variables de la table), ce qui permettra d’effectuer des opérations cohérentes\n",
        "(et optimisées) avec le type de la variable.\n",
        "Avoir quelques notions `Numpy` est utile pour comprendre\n",
        "la logique de manipulation vectorielle\n",
        "rendant les traitements sur des données plus lisibles,\n",
        "plus efficaces et plus fiables.\n",
        "\n",
        "Par rapport à une liste,\n",
        "\n",
        "-   un *array* ne peut contenir qu’un type de données (`integer`, `string`, etc.),\n",
        "    contrairement à une liste.\n",
        "-   les opérations implémentées par `Numpy` seront plus efficaces et demanderont moins\n",
        "    de mémoire\n",
        "\n",
        "Les données géographiques constitueront une construction un peu plus complexe qu’un `DataFrame` traditionnel.\n",
        "La dimension géographique prend la forme d’un tableau plus profond, au moins bidimensionnel\n",
        "(coordonnées d’un point). Néanmoins, les librairies de manipulation\n",
        "de données géographiques permettront de ne pas se préoccuper de\n",
        "cette complexité accrue.\n",
        "\n",
        "## 2.1 Créer un array\n",
        "\n",
        "On peut créer un *array* de plusieurs manières. Pour créer un *array* à partir d’une liste,\n",
        "il suffit d’utiliser la méthode `array`:"
      ]
    },
    {
      "cell_type": "code",
      "execution_count": 3,
      "id": "4bd083e8",
      "metadata": {},
      "outputs": [
        {
          "data": {
            "text/plain": [
              "array([1, 2, 5])"
            ]
          },
          "metadata": {},
          "output_type": "display_data"
        }
      ],
      "source": [
        "np.array([1, 2, 5])\n"
      ]
    },
    {
      "cell_type": "markdown",
      "id": "548d063a-e5d4-4184-929e-fba1a074cf1d",
      "metadata": {},
      "source": [
        "Il est possible d’ajouter un argument `dtype` pour contraindre le type du *array* :"
      ]
    },
    {
      "cell_type": "code",
      "execution_count": 4,
      "id": "3faa8c6a",
      "metadata": {},
      "outputs": [
        {
          "data": {
            "text/plain": [
              "array([list(['a', 'z', 'e']), list(['r', 't']), list(['y'])], dtype=object)"
            ]
          },
          "metadata": {},
          "output_type": "display_data"
        }
      ],
      "source": [
        "np.array([[\"a\", \"z\", \"e\"], [\"r\", \"t\"], [\"y\"]], dtype=\"object\")\n"
      ]
    },
    {
      "cell_type": "markdown",
      "id": "08e02aef-b18f-4537-bc2b-85d4e734caa5",
      "metadata": {},
      "source": [
        "Il existe aussi des méthodes pratiques pour créer des array:\n",
        "\n",
        "-   séquences logiques : `np.arange` (suite) ou `np.linspace` (interpolation linéaire entre deux bornes)\n",
        "-   séquences ordonnées : *array* rempli de zéros, de 1 ou d’un nombre désiré : `np.zeros`, `np.ones` ou `np.full`\n",
        "-   séquences aléatoires : fonctions de génération de nombres aléatoires : `np.rand.uniform`, `np.rand.normal`, etc.\n",
        "-   tableau sous forme de matrice identité : `np.eye`\n",
        "\n",
        "Ceci donne ainsi, pour les séquences logiques:"
      ]
    },
    {
      "cell_type": "code",
      "execution_count": 5,
      "id": "f7de6c0c",
      "metadata": {},
      "outputs": [
        {
          "data": {
            "text/plain": [
              "array([0, 1, 2, 3, 4, 5, 6, 7, 8, 9])"
            ]
          },
          "metadata": {},
          "output_type": "display_data"
        }
      ],
      "source": [
        "np.arange(0, 10)\n"
      ]
    },
    {
      "cell_type": "code",
      "execution_count": 6,
      "id": "2022f030",
      "metadata": {},
      "outputs": [
        {
          "data": {
            "text/plain": [
              "array([0, 3, 6, 9])"
            ]
          },
          "metadata": {},
          "output_type": "display_data"
        }
      ],
      "source": [
        "np.arange(0, 10, 3)\n"
      ]
    },
    {
      "cell_type": "code",
      "execution_count": 7,
      "id": "b6f026a9",
      "metadata": {},
      "outputs": [
        {
          "data": {
            "text/plain": [
              "array([0.  , 0.25, 0.5 , 0.75, 1.  ])"
            ]
          },
          "metadata": {},
          "output_type": "display_data"
        }
      ],
      "source": [
        "np.linspace(0, 1, 5)\n"
      ]
    },
    {
      "cell_type": "markdown",
      "id": "8851670d-918b-4c3a-b311-4b0559089dd3",
      "metadata": {},
      "source": [
        "Pour un *array* initialisé à 0:"
      ]
    },
    {
      "cell_type": "code",
      "execution_count": 8,
      "id": "dc14caf4",
      "metadata": {},
      "outputs": [
        {
          "data": {
            "text/plain": [
              "array([0, 0, 0, 0, 0, 0, 0, 0, 0, 0])"
            ]
          },
          "metadata": {},
          "output_type": "display_data"
        }
      ],
      "source": [
        "np.zeros(10, dtype=int)\n"
      ]
    },
    {
      "cell_type": "markdown",
      "id": "fc576b08-d3c5-454f-afac-bff8abde5c84",
      "metadata": {},
      "source": [
        "ou initialisé à 1:"
      ]
    },
    {
      "cell_type": "code",
      "execution_count": 9,
      "id": "cb29a643",
      "metadata": {},
      "outputs": [
        {
          "data": {
            "text/plain": [
              "array([[1., 1., 1., 1., 1.],\n",
              "       [1., 1., 1., 1., 1.],\n",
              "       [1., 1., 1., 1., 1.]])"
            ]
          },
          "metadata": {},
          "output_type": "display_data"
        }
      ],
      "source": [
        "np.ones((3, 5), dtype=float)\n"
      ]
    },
    {
      "cell_type": "markdown",
      "id": "aa106194-3a74-4679-8d45-d639e28c2bf1",
      "metadata": {},
      "source": [
        "ou encore initialisé à 3.14:"
      ]
    },
    {
      "cell_type": "code",
      "execution_count": 10,
      "id": "7e6c3533",
      "metadata": {},
      "outputs": [
        {
          "data": {
            "text/plain": [
              "array([[3.14, 3.14, 3.14, 3.14, 3.14],\n",
              "       [3.14, 3.14, 3.14, 3.14, 3.14],\n",
              "       [3.14, 3.14, 3.14, 3.14, 3.14]])"
            ]
          },
          "metadata": {},
          "output_type": "display_data"
        }
      ],
      "source": [
        "np.full((3, 5), 3.14)\n"
      ]
    },
    {
      "cell_type": "markdown",
      "id": "13f6e8b0-5147-490d-8fcf-220101091d34",
      "metadata": {},
      "source": [
        "Enfin, pour créer la matrice $I_3$:"
      ]
    },
    {
      "cell_type": "code",
      "execution_count": 11,
      "id": "553b49f0",
      "metadata": {},
      "outputs": [
        {
          "data": {
            "text/plain": [
              "array([[1., 0., 0.],\n",
              "       [0., 1., 0.],\n",
              "       [0., 0., 1.]])"
            ]
          },
          "metadata": {},
          "output_type": "display_data"
        }
      ],
      "source": [
        "np.eye(3)\n"
      ]
    },
    {
      "cell_type": "code",
      "execution_count": 3,
      "id": "b888249e",
      "metadata": {},
      "outputs": [
        {
          "data": {
            "text/plain": [
              "np.float64(2.233982811050951)"
            ]
          },
          "execution_count": 3,
          "metadata": {},
          "output_type": "execute_result"
        }
      ],
      "source": [
        "x = np.random.uniform(0,1,1000)\n",
        "y = np.random.normal(0, np.sqrt(2), 1000) \n",
        "\n",
        "np.var(y)"
      ]
    },
    {
      "cell_type": "markdown",
      "id": "d233d5ef-25cf-4050-a3d3-1612ad558fb7",
      "metadata": {},
      "source": [
        "<div class=\"alert alert-success\" role=\"alert\">\n",
        "<h3 class=\"alert-heading\"><i class=\"fa-solid fa-pencil\"></i> Exercice 1</h3>\n",
        "\n",
        "Générer:\n",
        "\n",
        "-   $X$ une variable aléatoire, 1000 répétitions d’une loi $U(0,1)$\n",
        "-   $Y$ une variable aléatoire, 1000 répétitions d’une loi normale de moyenne nulle et de variance égale à 2\n",
        "-   Vérifier la variance de $Y$ avec `np.var`\n",
        "\n",
        "</div>\n",
        "\n",
        "# 3. Indexation et *slicing*\n",
        "\n",
        "## 3.1 Logique dans le cas d’un array unidimensionnel\n",
        "\n",
        "La structure la plus simple est l’*array* unidimensionnel:"
      ]
    },
    {
      "cell_type": "code",
      "execution_count": 14,
      "id": "43cef9da",
      "metadata": {},
      "outputs": [
        {
          "name": "stdout",
          "output_type": "stream",
          "text": [
            "[0 1 2 3 4 5 6 7 8 9]"
          ]
        }
      ],
      "source": [
        "x = np.arange(10)\n",
        "print(x)\n"
      ]
    },
    {
      "cell_type": "markdown",
      "id": "4e1ff951-d143-403b-95b7-d8ec59572cf7",
      "metadata": {},
      "source": [
        "L’indexation est dans ce cas similaire à celle d’une liste:\n",
        "\n",
        "-   le premier élément est 0\n",
        "-   le énième élément est accessible à la position $n-1$\n",
        "\n",
        "La logique d’accès aux éléments est ainsi la suivante :\n",
        "\n",
        "``` python\n",
        "x[start:stop:step]\n",
        "```\n",
        "\n",
        "Avec un *array* unidimensionnel, l’opération de *slicing* (garder une coupe du *array*) est très simple.\n",
        "Par exemple, pour garder les *K* premiers éléments d’un *array*, on fera:\n",
        "\n",
        "``` python\n",
        "x[: (K - 1)]\n",
        "```\n",
        "\n",
        "En l’occurrence, on sélectionne le K$^{eme}$ élément en utilisant\n",
        "\n",
        "``` python\n",
        "x[K - 1]\n",
        "```\n",
        "\n",
        "Pour sélectionner uniquement un élément, on fera ainsi:"
      ]
    },
    {
      "cell_type": "code",
      "execution_count": 15,
      "id": "4f85320f",
      "metadata": {},
      "outputs": [
        {
          "data": {
            "text/plain": [
              "2"
            ]
          },
          "metadata": {},
          "output_type": "display_data"
        }
      ],
      "source": [
        "x = np.arange(10)\n",
        "x[2]\n"
      ]
    },
    {
      "cell_type": "code",
      "execution_count": 9,
      "id": "7e1fb5b0",
      "metadata": {},
      "outputs": [
        {
          "name": "stdout",
          "output_type": "stream",
          "text": [
            "[0 3 5]\n"
          ]
        },
        {
          "data": {
            "text/plain": [
              "array([0, 1, 2, 3, 4])"
            ]
          },
          "execution_count": 9,
          "metadata": {},
          "output_type": "execute_result"
        }
      ],
      "source": [
        "x = np.arange(10)\n",
        "print(x[[0,3,5]])\n",
        "x[::2]\n",
        "x[1::]\n",
        "x[:5:]"
      ]
    },
    {
      "cell_type": "markdown",
      "id": "273ca389-de63-49a3-9f9b-7caeba84f230",
      "metadata": {},
      "source": [
        "Les syntaxes qui permettent de sélectionner des indices particuliers d’une liste fonctionnent également\n",
        "avec les *arrays*.\n",
        "\n",
        "<div class=\"alert alert-success\" role=\"alert\">\n",
        "<h3 class=\"alert-heading\"><i class=\"fa-solid fa-pencil\"></i> Exercice 2</h3>\n",
        "\n",
        "Prenez `x = np.arange(10)` et…\n",
        "\n",
        "-   Sélectionner les éléments 0, 3, 5 de `x`\n",
        "-   Sélectionner les éléments pairs\n",
        "-   Sélectionner tous les éléments sauf le premier\n",
        "-   Sélectionner les 5 premiers éléments\n",
        "\n",
        "</div>\n",
        "\n",
        "## 3.2 Sur la performance\n",
        "\n",
        "Un élément déterminant dans la performance de `Numpy` par rapport aux listes,\n",
        "lorsqu’il est question de\n",
        "*slicing* est qu’un array ne renvoie pas une\n",
        "copie de l’élément en question (copie qui coûte de la mémoire et du temps)\n",
        "mais simplement une vue de celui-ci.\n",
        "\n",
        "Lorsqu’il est nécessaire d’effectuer une copie,\n",
        "par exemple pour ne pas altérer l’*array* sous-jacent, on peut\n",
        "utiliser la méthode `copy`:\n",
        "\n",
        "``` python\n",
        "x_sub_copy = x[:2, :2].copy()\n",
        "```\n",
        "\n",
        "## 3.3 Filtres logiques\n",
        "\n",
        "Il est également possible, et plus pratique, de sélectionner des données à partir de conditions logiques\n",
        "(opération qu’on appelle un ***boolean mask***).\n",
        "Cette fonctionalité servira principalement à\n",
        "effectuer des opérations de filtre sur les données.\n",
        "\n",
        "Pour des opérations de comparaison simples, les comparateurs logiques peuvent être suffisants.\n",
        "Ces comparaisons fonctionnent aussi sur les tableaux multidimensionnels grâce au\n",
        "*broadcasting* sur lequel nous reviendrons :"
      ]
    },
    {
      "cell_type": "code",
      "execution_count": 19,
      "id": "94e9d2f7",
      "metadata": {},
      "outputs": [
        {
          "name": "stdout",
          "output_type": "stream",
          "text": [
            "[0 1 2 3 4 5 6 7 8 9]\n",
            "[[-1  1 -2]\n",
            " [-3  2  0]]"
          ]
        }
      ],
      "source": [
        "x = np.arange(10)\n",
        "x2 = np.array([[-1, 1, -2], [-3, 2, 0]])\n",
        "print(x)\n",
        "print(x2)\n"
      ]
    },
    {
      "cell_type": "code",
      "execution_count": 20,
      "id": "22bed648",
      "metadata": {},
      "outputs": [
        {
          "data": {
            "text/plain": [
              "array([[ True, False,  True],\n",
              "       [ True, False, False]])"
            ]
          },
          "metadata": {},
          "output_type": "display_data"
        }
      ],
      "source": [
        "x == 2\n",
        "x2 < 0\n"
      ]
    },
    {
      "cell_type": "code",
      "execution_count": 11,
      "id": "3550b16c",
      "metadata": {},
      "outputs": [
        {
          "data": {
            "text/plain": [
              "np.float64(0.14505487106555176)"
            ]
          },
          "execution_count": 11,
          "metadata": {},
          "output_type": "execute_result"
        }
      ],
      "source": [
        "x = np.random.normal(size = 10000)\n",
        "\n",
        "x[np.abs(x) >= 1.96]\n",
        "\n",
        "sum(np.abs(x)>= 1.96)\n",
        "x[np.abs(x)>=1.96].size\n",
        "sum(np.abs(x)>=1.96)/x.size\n",
        "\n",
        "sum(np.abs(x[np.abs(x)>= 1.96]))/sum(np.abs(x))"
      ]
    },
    {
      "cell_type": "markdown",
      "id": "38cef556-656f-4ed8-9f83-6d35a9f39b9d",
      "metadata": {},
      "source": [
        "Pour sélectionner les observations relatives à la condition logique,\n",
        "il suffit d’utiliser la logique de *slicing* de `numpy` qui fonctionne avec les conditions logiques\n",
        "\n",
        "<div class=\"alert alert-success\" role=\"alert\">\n",
        "<h3 class=\"alert-heading\"><i class=\"fa-solid fa-pencil\"></i> Exercice 3</h3>\n",
        "\n",
        "Soit\n",
        "\n",
        "``` python\n",
        "x = np.random.normal(size=10000)\n",
        "```\n",
        "\n",
        "1.  Ne conserver que les valeurs dont la valeur absolue est supérieure à 1.96\n",
        "2.  Compter le nombre de valeurs supérieures à 1.96 en valeur absolue et leur proportion dans l’ensemble\n",
        "3.  Sommer les valeurs absolues de toutes les observations supérieures (en valeur absolue) à 1.96\n",
        "    et rapportez les à la somme des valeurs de `x` (en valeur absolue)\n",
        "\n",
        "</div>\n",
        "\n",
        "Lorsque c’est possible, il est recommandé d’utiliser les fonctions logiques de `numpy` (optimisées et\n",
        "qui gèrent bien la dimension).\n",
        "Parmi elles, on peut retrouver:\n",
        "\n",
        "-   `count_nonzero` ;\n",
        "-   `isnan` ;\n",
        "-   `any` ou `all`, notamment avec l’argument `axis` ;\n",
        "-   `np.array_equal` pour vérifier, élément par élément, l’égalité.\n",
        "\n",
        "Soient `x` un *array* multidimensionnel et `y` un *array* unidimensionnel présentant une valeur manquante."
      ]
    },
    {
      "cell_type": "code",
      "execution_count": 36,
      "id": "f0ecfa62",
      "metadata": {},
      "outputs": [
        {
          "name": "stdout",
          "output_type": "stream",
          "text": [
            "[nan  0.  1.]\n",
            "2\n",
            "True\n",
            "[ True  True  True]\n",
            "[ True  True  True  True]\n",
            "ok\n"
          ]
        }
      ],
      "source": [
        "x = np.random.normal(0, size=(3, 4))\n",
        "y = np.array([np.nan, 0, 1])\n",
        "\n",
        "print(y)\n",
        "np.count_nonzero(y)\n",
        "\n",
        "np.isnan(y)\n",
        "print(y.size - sum(np.isnan(y)))\n",
        "\n",
        "print(np.any(x>=0))\n",
        "print(np.any(x>=0, axis = 1))\n",
        "print(np.any(x>=0, axis = 0))\n",
        "\n",
        "\n",
        "        "
      ]
    },
    {
      "cell_type": "markdown",
      "id": "d38cc84f-0fe8-4cdb-9126-18db550aa48f",
      "metadata": {},
      "source": [
        "<div class=\"alert alert-success\" role=\"alert\">\n",
        "<h3 class=\"alert-heading\"><i class=\"fa-solid fa-pencil\"></i> Exercice 4</h3>\n",
        "\n",
        "1.  Utiliser `count_nonzero` sur `y`\n",
        "2.  Utiliser `isnan` sur `y` et compter le nombre de valeurs non NaN\n",
        "3.  Vérifier que `x` comporte au moins une valeur positive dans son ensemble, en parcourant les lignes puis les colonnes.\n",
        "\n",
        "<details>\n",
        "\n",
        "<summary>\n",
        "\n",
        "Aide\n",
        "\n",
        "</summary>\n",
        "\n",
        "Jetez un oeil au paramètre `axis` en vous documentant sur internet. Par exemple [ici](https://www.sharpsightlabs.com/blog/numpy-axes-explained/).\n",
        "\n",
        "</details>\n",
        "\n",
        "</div>\n",
        "\n",
        "# 4. Manipuler un *array*\n",
        "\n",
        "## 4.1 Fonctions de manipulation\n",
        "\n",
        "`Numpy` propose des méthodes ou des fonctions standardisées pour\n",
        "modifier un array, voici un tableau en présentant quelques-unes:\n",
        "\n",
        "| Opération                                                      | Implémentation                                  |\n",
        "|------------------------------|------------------------------------------|\n",
        "| Aplatir un array                                               | `x.flatten()` (méthode)                         |\n",
        "| Transposer un array                                            | `x.T` (méthode) ou `np.transpose(x)` (fonction) |\n",
        "| Ajouter des éléments à la fin                                  | `np.append(x, [1,2])`                           |\n",
        "| Ajouter des éléments à un endroit donné (aux positions 1 et 2) | `np.insert(x, [1,2], 3)`                        |\n",
        "| Supprimer des éléments (aux positions 0 et 3)                  | `np.delete(x, [0,3])`                           |\n",
        "\n",
        "Pour combiner des array, on peut utiliser, selon les cas,\n",
        "les fonctions `np.concatenate`, `np.vstack` ou la méthode `.r_` (concaténation *rowwise*).\n",
        "`np.hstack` ou la méthode `.column_stack` ou `.c_` (concaténation *column-wise*)"
      ]
    },
    {
      "cell_type": "code",
      "execution_count": 25,
      "id": "dec371ab",
      "metadata": {},
      "outputs": [],
      "source": [
        "x = np.random.normal(size=10)\n"
      ]
    },
    {
      "cell_type": "markdown",
      "id": "dbab4561-8605-4925-a1df-92f53bd4b767",
      "metadata": {},
      "source": [
        "Pour ordonner un array, on utilise `np.sort`"
      ]
    },
    {
      "cell_type": "code",
      "execution_count": 26,
      "id": "3355e1fb",
      "metadata": {},
      "outputs": [
        {
          "data": {
            "text/plain": [
              "array([1, 2, 3, 4, 5, 6, 7])"
            ]
          },
          "metadata": {},
          "output_type": "display_data"
        }
      ],
      "source": [
        "x = np.array([7, 2, 3, 1, 6, 5, 4])\n",
        "\n",
        "np.sort(x)\n"
      ]
    },
    {
      "cell_type": "markdown",
      "id": "f282dd26-8649-4030-a059-5dc8a54e15e0",
      "metadata": {},
      "source": [
        "Si on désire faire un ré-ordonnement partiel pour trouver les *k* valeurs les plus petites d’un `array` sans les ordonner, on utilise `partition`:"
      ]
    },
    {
      "cell_type": "code",
      "execution_count": 27,
      "id": "81a19ac5",
      "metadata": {},
      "outputs": [
        {
          "data": {
            "text/plain": [
              "array([2, 1, 3, 4, 6, 5, 7])"
            ]
          },
          "metadata": {},
          "output_type": "display_data"
        }
      ],
      "source": [
        "np.partition(x, 3)\n"
      ]
    },
    {
      "cell_type": "markdown",
      "id": "0c4512a9-6217-4439-a14f-abf22d7a7405",
      "metadata": {},
      "source": [
        "## 4.2 Statistiques sur un *array*\n",
        "\n",
        "Pour les statistiques descriptives classiques,\n",
        "`Numpy` propose un certain nombre de fonctions déjà implémentées,\n",
        "qui peuvent être combinées avec l’argument `axis`"
      ]
    },
    {
      "cell_type": "code",
      "execution_count": 28,
      "id": "f371770f",
      "metadata": {},
      "outputs": [],
      "source": [
        "x = np.random.normal(0, size=(3, 4))\n",
        "\n",
        "np.sum(x)\n",
        "np.sum(x, axis = 1)\n",
        "np.sum(x, axis = 0)\n",
        "\n",
        "def statdesc(x, axis = None) : \n",
        "    mu = pn.mean(x, axis = axis)\n",
        "    sigma = np.std(x, axis = axis)\n",
        "    min = np.min"
      ]
    },
    {
      "cell_type": "code",
      "execution_count": null,
      "id": "e4f3c31d",
      "metadata": {},
      "outputs": [],
      "source": []
    },
    {
      "cell_type": "markdown",
      "id": "6e06a371-a85e-49c1-8587-dabb974ebfa7",
      "metadata": {},
      "source": [
        "<div class=\"alert alert-success\" role=\"alert\">\n",
        "<h3 class=\"alert-heading\"><i class=\"fa-solid fa-pencil\"></i> Exercice 5</h3>\n",
        "\n",
        "1.  Faire la somme de tous les éléments d’un `array`, des éléments en ligne et des éléments en colonne. Vérifier\n",
        "    la cohérence.\n",
        "2.  Ecrire une fonction `statdesc` pour renvoyer les valeurs suivantes : moyenne, médiane, écart-type, minimum et maximum.\n",
        "    L’appliquer sur `x` en jouant avec l’argument *axis*\n",
        "\n",
        "</div>\n",
        "\n",
        "# 5. *Broadcasting*\n",
        "\n",
        "Le *broadcasting* désigne un ensemble de règles permettant\n",
        "d’appliquer des opérations sur des tableaux de dimensions différentes. En pratique,\n",
        "cela consiste généralement à appliquer une seule opération à l’ensemble des membres d’un tableau `numpy`.\n",
        "\n",
        "La différence peut être comprise à partir de l’exemple suivant. Le *broadcasting* permet\n",
        "de transformer le scalaire `5` en *array* de dimension 3:"
      ]
    },
    {
      "cell_type": "code",
      "execution_count": 39,
      "id": "7e54f1de",
      "metadata": {},
      "outputs": [
        {
          "name": "stdout",
          "output_type": "stream",
          "text": [
            "[0 1 2]\n",
            "[5 5 5]\n",
            "[5 6 7]\n",
            "[5 6 7]\n"
          ]
        }
      ],
      "source": [
        "a = np.array([0, 1, 2])\n",
        "b = np.array([5, 5, 5])\n",
        "\n",
        "print(a)\n",
        "print(b)\n",
        "print(a + b)\n",
        "print(a + 5)\n"
      ]
    },
    {
      "cell_type": "markdown",
      "id": "b7a17a80-9a4a-45e7-8f03-04b54d21eecd",
      "metadata": {},
      "source": [
        "Le *broadcasting* peut être très pratique pour effectuer de manière efficace des opérations sur des données à\n",
        "la structure complexe. Pour plus de détails, se rendre\n",
        "[ici](https://jakevdp.github.io/PythonDataScienceHandbook/02.05-computation-on-arrays-broadcasting.html) ou [ici](https://stackoverflow.com/questions/47435526/what-is-the-meaning-of-axis-1-in-keras-argmax).\n",
        "\n",
        "## 5.1 Une application: programmer ses propres k-nearest neighbors\n",
        "\n",
        "<div class=\"alert alert-success\" role=\"alert\">\n",
        "<h3 class=\"alert-heading\"><i class=\"fa-solid fa-pencil\"></i> Exercice (un peu plus corsé)</h3>\n",
        "\n",
        "1.  Créer `X` un tableau à deux dimensions (i.e. une matrice) comportant 10 lignes\n",
        "    et 2 colonnes. Les nombres dans le tableau sont aléatoires.\n",
        "2.  Importer le module `matplotlib.pyplot` sous le nom `plt`. Utiliser\n",
        "    `plt.scatter` pour représenter les données sous forme de nuage de points.\n",
        "3.  Constuire une matrice 10x10 stockant, à l’élément $(i,j)$, la distance euclidienne entre les points $X[i,]$ et $X[j,]$. Pour cela, il va falloir jouer avec les dimensions en créant des tableaux emboîtés à partir par des appels à `np.newaxis` :\n",
        "\n",
        "-   En premier lieu, utiliser `X1 = X[:, np.newaxis, :]` pour transformer la matrice en tableau emboîté. Vérifier les dimensions\n",
        "-   Créer `X2` de dimension `(1, 10, 2)` à partir de la même logique\n",
        "-   En déduire, pour chaque point, la distance avec les autres points pour chaque coordonnées. Elever celle-ci au carré\n",
        "-   A ce stade, vous devriez avoir un tableau de dimension `(10, 10, 2)`. La réduction à une matrice s’obtient en sommant sur le dernier axe. Regarder dans l’aide de `np.sum` comme effectuer une somme sur le dernier axe.\n",
        "-   Enfin, appliquer la racine carrée pour obtenir une distance euclidienne en bonne et due forme.\n",
        "\n",
        "1.  Vérifier que les termes diagonaux sont bien nuls (distance d’un point à lui-même…)\n",
        "2.  Il s’agit maintenant de classer, pour chaque point, les points dont les valeurs sont les plus similaires. Utiliser `np.argsort` pour obtenir, pour chaque ligne, le classement des points les plus proches\n",
        "3.  On va s’intéresser aux k-plus proches voisins. Pour le moment, fixons k=2. Utiliser `argpartition` pour réordonner chaque ligne de manière à avoir les 2 plus proches voisins de chaque point d’abord et le reste de la ligne ensuite\n",
        "4.  Utiliser le morceau de code ci-dessous\n",
        "\n",
        "</div>"
      ]
    },
    {
      "cell_type": "code",
      "execution_count": null,
      "id": "2fbfd09a",
      "metadata": {},
      "outputs": [],
      "source": []
    },
    {
      "cell_type": "markdown",
      "id": "32053892-7d69-4b6c-be08-f5f31efab8e6",
      "metadata": {},
      "source": [
        "<details><summary>Un indice pour représenter graphiquement les plus proches voisins</summary>\n",
        "\n",
        "``` python\n",
        "plt.scatter(X[:, 0], X[:, 1], s=100)\n",
        "\n",
        "# draw lines from each point to its two nearest neighbors\n",
        "K = 2\n",
        "\n",
        "for i in range(X.shape[0]):\n",
        "    for j in nearest_partition[i, : K + 1]:\n",
        "        # plot a line from X[i] to X[j]\n",
        "        # use some zip magic to make it happen:\n",
        "        plt.plot(*zip(X[j], X[i]), color=\"black\")\n",
        "```\n",
        "\n",
        "</details>"
      ]
    },
    {
      "cell_type": "markdown",
      "id": "12a4677c-92a5-42f7-b061-6d995451f334",
      "metadata": {},
      "source": [
        "Pour la question 2, vous devriez obtenir un graphique ayant cet aspect\n",
        "\n",
        "For question 2, you should get a graph that looks like this:"
      ]
    },
    {
      "cell_type": "code",
      "execution_count": 37,
      "id": "2e6f65f4",
      "metadata": {},
      "outputs": [
        {
          "data": {
            "image/png": "[encoded data removed]"
          },
          "metadata": {},
          "output_type": "display_data"
        }
      ],
      "source": []
    },
    {
      "cell_type": "markdown",
      "id": "079fc4f3-adac-4f19-8ebb-ce44baa14268",
      "metadata": {},
      "source": [
        "Le résultat de la question 7 est le suivant :"
      ]
    },
    {
      "cell_type": "code",
      "execution_count": 39,
      "id": "fe1fb293",
      "metadata": {},
      "outputs": [
        {
          "data": {
            "image/png": "[encoded data removed]"
          },
          "metadata": {},
          "output_type": "display_data"
        }
      ],
      "source": []
    },
    {
      "cell_type": "markdown",
      "id": "4cb9817e-3b53-45e6-9a5e-c438d7f2663e",
      "metadata": {},
      "source": [
        "Ai-je inventé cet exercice corsé ? Pas du tout, il vient de l’ouvrage [*Python Data Science Handbook*](https://jakevdp.github.io/PythonDataScienceHandbook/02.08-sorting.html#Example:-k-Nearest-Neighbors). Mais, si je vous l’avais indiqué immédiatement, auriez-vous cherché à répondre aux questions ?\n",
        "\n",
        "Par ailleurs, il ne serait pas une bonne idée de généraliser cet algorithme à de grosses données. La complexité de notre approche est $O(N^2)$. L’algorithme implémenté par `Scikit-Learn` est\n",
        "en $O[NlogN]$.\n",
        "\n",
        "De plus, le calcul de distances matricielles en utilisant la puissance des cartes graphiques serait plus rapide. A cet égard, la librairie [faiss](https://github.com/facebookresearch/faiss) ou les *frameworks* spécialisés dans le calcul de distance entre des vecteurs à haute dimension comme [ChromaDB](https://www.trychroma.com/)\n",
        "offrent des performances beaucoup plus satisfaisantes que celles que permettraient `Numpy` sur ce problème précis.\n",
        "\n",
        "# 6. Exercices supplémentaires\n",
        "\n",
        "<div class=\"alert alert-success\" role=\"alert\">\n",
        "<h3 class=\"alert-heading\"><i class=\"fa-solid fa-pencil\"></i> Comprendre le principe de l’algorithme PageRank</h3>\n",
        "\n",
        "`Google` est devenu célèbre grâce à son algorithme `PageRank`. Celui-ci permet, à partir\n",
        "de liens entre sites *web*, de donner un score d’importance à un site *web* qui va\n",
        "être utilisé pour évaluer sa centralité dans un réseau.\n",
        "L’objectif de cet exercice est d’utiliser `Numpy` pour mettre en oeuvre un tel\n",
        "algorithme à partir d’une matrice d’adjacence qui relie les sites entre eux.\n",
        "\n",
        "1.  Créer la matrice suivante avec `numpy`. L’appeler `M`:\n",
        "\n",
        "$$\n",
        "\\begin{bmatrix}\n",
        "0 & 0 & 0 & 0 & 1 \\\\\n",
        "0.5 & 0 & 0 & 0 & 0 \\\\\n",
        "0.5 & 0 & 0 & 0 & 0 \\\\\n",
        "0 & 1 & 0.5 & 0 & 0 \\\\\n",
        "0 & 0 & 0.5 & 1 & 0\n",
        "\\end{bmatrix}\n",
        "$$\n",
        "\n",
        "1.  Pour représenter visuellement ce *web* minimaliste,\n",
        "    convertir en objet `networkx` (une librairie spécialisée\n",
        "    dans l’analyse de réseau) et utiliser la fonction `draw`\n",
        "    de ce package.\n",
        "\n",
        "Il s’agit de la transposée de la matrice d’adjacence\n",
        "qui permet de relier les sites entre eux. Par exemple,\n",
        "le site 1 (première colonne) est référencé par\n",
        "les sites 2 et 3. Celui-ci ne référence que le site 5.\n",
        "\n",
        "1.  A partir de la page wikipedia anglaise de `PageRank`, tester\n",
        "    sur votre matrice.\n",
        "\n",
        "</div>"
      ]
    },
    {
      "cell_type": "code",
      "execution_count": 46,
      "id": "532e6760",
      "metadata": {},
      "outputs": [
        {
          "data": {
            "image/png": "[encoded data removed]"
          },
          "metadata": {},
          "output_type": "display_data"
        }
      ],
      "source": []
    },
    {
      "cell_type": "markdown",
      "id": "5968c866-cace-4841-b295-e7e30940ce17",
      "metadata": {},
      "source": [
        "Le site 1 est assez central car il est référencé 2 fois. Le site\n",
        "5 est lui également central puisqu’il est référencé par le site 1."
      ]
    },
    {
      "cell_type": "code",
      "execution_count": 48,
      "id": "ec311221",
      "metadata": {},
      "outputs": [
        {
          "data": {
            "text/plain": [
              "array([[0.25419178],\n",
              "       [0.13803151],\n",
              "       [0.13803151],\n",
              "       [0.20599017],\n",
              "       [0.26375504]])"
            ]
          },
          "metadata": {},
          "output_type": "display_data"
        }
      ],
      "source": []
    }
  ],
  "metadata": {
    "kernelspec": {
      "display_name": "Python 3 (ipykernel)",
      "language": "python",
      "name": "python3"
    },
    "language_info": {
      "codemirror_mode": {
        "name": "ipython",
        "version": 3
      },
      "file_extension": ".py",
      "mimetype": "text/x-python",
      "name": "python",
      "nbconvert_exporter": "python",
      "pygments_lexer": "ipython3",
      "version": "3.12.5"
    }
  },
  "nbformat": 4,
  "nbformat_minor": 5
}
